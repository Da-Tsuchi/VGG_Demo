{
 "cells": [
  {
   "cell_type": "code",
   "execution_count": 1,
   "metadata": {},
   "outputs": [],
   "source": [
    "import traitlets\n",
    "from jetcam.utils import bgr8_to_jpeg\n",
    "from IPython.display import display\n",
    "import ipywidgets\n",
    "from jetcam.csi_camera import CSICamera\n",
    "import cv2\n",
    "import torch\n",
    "from torch import nn, optim\n",
    "import numpy as np\n",
    "import random\n",
    "import sys\n",
    "from src.vgg_local import VGG_LOCAL\n",
    "from torchvision import datasets, transforms\n",
    "from torch.utils.data import DataLoader\n",
    "from PIL import Image\n",
    "import gc"
   ]
  },
  {
   "cell_type": "code",
   "execution_count": 2,
   "metadata": {},
   "outputs": [
    {
     "data": {
      "text/plain": [
       "38"
      ]
     },
     "execution_count": 2,
     "metadata": {},
     "output_type": "execute_result"
    }
   ],
   "source": [
    "model_path = \"final_weight.pth\"\n",
    "model_ver = \"VGG11\""
   ]
  },
  {
   "cell_type": "code",
   "execution_count": 7,
   "metadata": {},
   "outputs": [
    {
     "name": "stderr",
     "output_type": "stream",
     "text": [
      "\n",
      "(python3:12348): GStreamer-WARNING **: 06:06:00.912: Failed to load plugin '/usr/lib/aarch64-linux-gnu/gstreamer-1.0/libgstnvarguscamerasrc.so': /usr/lib/aarch64-linux-gnu/libGLdispatch.so.0: cannot allocate memory in static TLS block\n",
      "\n",
      "(python3:12348): GStreamer-WARNING **: 06:06:00.916: Failed to load plugin '/usr/lib/aarch64-linux-gnu/gstreamer-1.0/libgstnvvidconv.so': /usr/lib/aarch64-linux-gnu/libGLdispatch.so.0: cannot allocate memory in static TLS block\n",
      "[ WARN:0@189.815] global cap_gstreamer.cpp:1697 open OpenCV | GStreamer warning: unable to query duration of stream\n",
      "\n",
      "(python3:12348): GStreamer-CRITICAL **: 06:06:30.924: gst_caps_get_structure: assertion 'GST_IS_CAPS (caps)' failed\n",
      "\n",
      "(python3:12348): GStreamer-CRITICAL **: 06:06:30.924: gst_structure_get_int: assertion 'structure != NULL' failed\n",
      "[ WARN:0@189.815] global cap_gstreamer.cpp:1707 open OpenCV | GStreamer warning: cannot query video width/height\n",
      "\n",
      "(python3:12348): GStreamer-CRITICAL **: 06:06:30.924: gst_structure_get_fraction: assertion 'structure != NULL' failed\n",
      "[ WARN:0@189.815] global cap_gstreamer.cpp:1713 open OpenCV | GStreamer warning: cannot query video fps\n",
      "[ WARN:0@189.815] global cap_gstreamer.cpp:1728 open OpenCV | GStreamer warning: Cannot query video position: status=0, value=-1, duration=-1\n"
     ]
    }
   ],
   "source": [
    "gc.collect()\n",
    "# カメラデバイスの初期化\n",
    "camera = CSICamera(width=64, height=64, capture_device=0)  # カメラの解像度を適宜設定\n",
    "\n",
    "# 画像のキャプチャ\n",
    "image = camera.read()\n",
    "\n",
    "gc.collect()\n",
    "del camera\n",
    "\n",
    "# 画像を保存\n",
    "image_path = \"image.jpg\"\n",
    "cv2.imwrite(image_path, image)  # OpenCVを使用して画像を保存\n"
   ]
  },
  {
   "cell_type": "code",
   "execution_count": 4,
   "metadata": {},
   "outputs": [],
   "source": [
    "image_size = 64\n",
    "# Set random seed for reproducibility\n",
    "random_seed = 9999\n",
    "random.seed(random_seed)\n",
    "np.random.seed(random_seed)\n",
    "torch.manual_seed(random_seed)\n",
    "if torch.cuda.is_available():\n",
    "    device = torch.device('cuda')\n",
    "    torch.cuda.manual_seed(random_seed)\n",
    "    torch.backends.cudnn.deterministic = True\n",
    "else:\n",
    "    device = torch.device('cpu')\n",
    "# Preprocessing for test data\n",
    "test_transform = transforms.Compose([\n",
    "    transforms.Resize((image_size, image_size)),\n",
    "    transforms.ToTensor(),\n",
    "    transforms.Normalize((0.5, 0.5, 0.5), (0.5, 0.5, 0.5)),\n",
    "])\n",
    "\n",
    "# input = test_transform(Image.fromarray(image))\n",
    "# Initialize and load model weights\n",
    "model = VGG_LOCAL(model_ver, classes=3, image_size=image_size).to(device)\n",
    "model.load_state_dict(torch.load('../'+model_path))\n",
    "model.eval()\n",
    "with torch.no_grad():\n",
    "    input = input.to(device)\n",
    "    output = model(input)"
   ]
  },
  {
   "cell_type": "code",
   "execution_count": null,
   "metadata": {},
   "outputs": [],
   "source": []
  }
 ],
 "metadata": {
  "kernelspec": {
   "display_name": "Python 3",
   "language": "python",
   "name": "python3"
  },
  "language_info": {
   "codemirror_mode": {
    "name": "ipython",
    "version": 3
   },
   "file_extension": ".py",
   "mimetype": "text/x-python",
   "name": "python",
   "nbconvert_exporter": "python",
   "pygments_lexer": "ipython3",
   "version": "3.8.10"
  }
 },
 "nbformat": 4,
 "nbformat_minor": 2
}
